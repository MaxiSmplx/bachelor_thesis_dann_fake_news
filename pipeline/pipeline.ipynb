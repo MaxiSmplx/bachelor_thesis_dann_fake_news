{
 "cells": [
  {
   "cell_type": "markdown",
   "metadata": {},
   "source": [
    "## Utilities"
   ]
  },
  {
   "cell_type": "code",
   "execution_count": 60,
   "metadata": {},
   "outputs": [
    {
     "name": "stdout",
     "output_type": "stream",
     "text": [
      "read_dataset()\n",
      "read_all_datasets()\n",
      "read_processed_data()\n",
      "combine_text_columns()\n",
      "split_train_test()\n",
      "evaluate_model()\n",
      "detect_missing_values()\n"
     ]
    }
   ],
   "source": [
    "%run ../common_functions.py"
   ]
  },
  {
   "cell_type": "markdown",
   "metadata": {},
   "source": [
    "## Imports"
   ]
  },
  {
   "cell_type": "code",
   "execution_count": 61,
   "metadata": {},
   "outputs": [],
   "source": [
    "import yaml\n",
    "import pandas as pd\n",
    "from tqdm.auto import tqdm\n",
    "from random import choice"
   ]
  },
  {
   "cell_type": "code",
   "execution_count": 62,
   "metadata": {},
   "outputs": [],
   "source": [
    "from data_preprocessing.text_cleaning import (\n",
    "    remove_html,\n",
    "    remove_urls,\n",
    "    remove_digits,\n",
    "    remove_punctuation,\n",
    "    remove_special_characters,\n",
    "    normalize_whitespace,\n",
    "    to_lowercase\n",
    ")"
   ]
  },
  {
   "cell_type": "code",
   "execution_count": 63,
   "metadata": {},
   "outputs": [],
   "source": [
    "from data_augmentation.synonym_replacement import replace_synonyms_database, replace_synonyms_llm\n",
    "from data_augmentation.paraphrasing import paraphrase_llm\n",
    "from data_augmentation.style_transfer import transfer_style_llm"
   ]
  },
  {
   "cell_type": "markdown",
   "metadata": {},
   "source": [
    "## Load config"
   ]
  },
  {
   "cell_type": "code",
   "execution_count": 64,
   "metadata": {},
   "outputs": [],
   "source": [
    "with open(\"config.yml\", \"r\") as f:\n",
    "    config = yaml.safe_load(f)"
   ]
  },
  {
   "cell_type": "markdown",
   "metadata": {},
   "source": [
    "## Load Data"
   ]
  },
  {
   "cell_type": "code",
   "execution_count": 65,
   "metadata": {},
   "outputs": [],
   "source": [
    "data = read_all_datasets()\n",
    "\n",
    "data = data.head(10) #TODO Remove"
   ]
  },
  {
   "cell_type": "markdown",
   "metadata": {},
   "source": [
    "# Orchestration"
   ]
  },
  {
   "cell_type": "markdown",
   "metadata": {},
   "source": [
    "## Data Augmentation"
   ]
  },
  {
   "cell_type": "markdown",
   "metadata": {},
   "source": [
    "### Synonym Replacement"
   ]
  },
  {
   "cell_type": "code",
   "execution_count": 66,
   "metadata": {},
   "outputs": [],
   "source": [
    "if config[\"augmentation\"][\"synonym_replacement\"][\"enabled\"]:\n",
    "    n_samples = int(max(config[\"augmentation\"][\"synonym_replacement\"][\"n_samples\"] * len(data), 1))\n",
    "    n_replacements = 2\n",
    "\n",
    "    sampled = data.sample(n=n_samples, random_state=42).copy()\n",
    "    augmented_texts = []\n",
    "\n",
    "    if config[\"augmentation_methods\"][\"local_database\"]:\n",
    "        for text in tqdm(sampled['text'], total=n_samples):\n",
    "            augmented_texts.append(replace_synonyms_database(text, n_replacements))\n",
    "    elif config[\"augmentation_methods\"][\"llm\"]:\n",
    "        for text in tqdm(sampled['text'], total=n_samples):\n",
    "            augmented_texts.append(replace_synonyms_llm(text, n_replacements))\n",
    "    \n",
    "    if len(augmented_texts):\n",
    "        sampled['text'] = augmented_texts\n",
    "\n",
    "        data = pd.concat([data, sampled], ignore_index=True)"
   ]
  },
  {
   "cell_type": "markdown",
   "metadata": {},
   "source": [
    "### Paraphrasing"
   ]
  },
  {
   "cell_type": "code",
   "execution_count": 67,
   "metadata": {},
   "outputs": [],
   "source": [
    "if config[\"augmentation\"][\"paraphrasing\"][\"enabled\"]:\n",
    "    n_samples = int(max(config[\"augmentation\"][\"paraphrasing\"][\"n_samples\"] * len(data), 1))\n",
    "\n",
    "    sampled = data.sample(n=n_samples, random_state=42).copy()\n",
    "    augmented_texts = []\n",
    "\n",
    "    if config[\"augmentation_methods\"][\"llm\"]:\n",
    "        for text in tqdm(sampled['text'], total=n_samples):\n",
    "            augmented_texts.append(paraphrase_llm(text))\n",
    "    \n",
    "        sampled['text'] = augmented_texts\n",
    "\n",
    "        data = pd.concat([data, sampled], ignore_index=True)"
   ]
  },
  {
   "cell_type": "markdown",
   "metadata": {},
   "source": [
    "### Style Transfer"
   ]
  },
  {
   "cell_type": "code",
   "execution_count": 68,
   "metadata": {},
   "outputs": [],
   "source": [
    "if config[\"augmentation\"][\"style_transfer\"][\"enabled\"]:\n",
    "    n_samples = int(max(config[\"augmentation\"][\"paraphrasing\"][\"n_samples\"] * len(data), 1))\n",
    "    target_styles = [\n",
    "        \"Neutral journalistic\",\n",
    "        \"Slightly formal\",\n",
    "        \"Slightly informal\",\n",
    "        \"Objective report\",\n",
    "        \"Simplified for general audience\",\n",
    "        \"Summarized headline-style\",\n",
    "        \"Explanatory tone\",\n",
    "        \"Bullet-point format\",\n",
    "        \"Skeptical tone\",\n",
    "        \"Curious/inquisitive tone\"]\n",
    "\n",
    "    sampled = data.sample(n=n_samples, random_state=42).copy()\n",
    "    augmented_texts = []\n",
    "\n",
    "    if config[\"augmentation_methods\"][\"llm\"]:\n",
    "        for text in tqdm(sampled['text'], total=n_samples):\n",
    "            augmented_texts.append(transfer_style_llm(text, choice(target_styles)))\n",
    "    \n",
    "        sampled['text'] = augmented_texts\n",
    "\n",
    "        data = pd.concat([data, sampled], ignore_index=True)"
   ]
  },
  {
   "cell_type": "markdown",
   "metadata": {},
   "source": [
    "## Data Preprocessing"
   ]
  },
  {
   "cell_type": "markdown",
   "metadata": {},
   "source": [
    "### Text Cleaning"
   ]
  },
  {
   "cell_type": "code",
   "execution_count": 69,
   "metadata": {},
   "outputs": [],
   "source": [
    "def clean_text(text, config):\n",
    "    if config.get(\"strip_html\"):\n",
    "        text = remove_html(text)\n",
    "    if config.get(\"remove_urls\"):\n",
    "        text = remove_urls(text)\n",
    "    if config.get(\"remove_digits\"):\n",
    "        text = remove_digits(text)\n",
    "    if config.get(\"remove_punctuation\"):\n",
    "        text = remove_punctuation(text)\n",
    "    if config.get(\"remove_special_chars\"):\n",
    "        text = remove_special_characters(text)\n",
    "    if config.get(\"lowercase\"):\n",
    "        text = to_lowercase(text)\n",
    "    if config.get(\"normalize_whitespace\"):\n",
    "        text = normalize_whitespace(text)\n",
    "    \n",
    "    return text"
   ]
  },
  {
   "cell_type": "code",
   "execution_count": 70,
   "metadata": {},
   "outputs": [],
   "source": [
    "data[\"text\"] = data[\"text\"].apply(lambda x: clean_text(x, config[\"preprocessing\"]))"
   ]
  },
  {
   "cell_type": "markdown",
   "metadata": {},
   "source": [
    "## Save Output"
   ]
  },
  {
   "cell_type": "code",
   "execution_count": 72,
   "metadata": {},
   "outputs": [],
   "source": [
    "augmented = any([config[\"augmentation\"][\"synonym_replacement\"][\"enabled\"],\n",
    "                config[\"augmentation\"][\"paraphrasing\"][\"enabled\"],\n",
    "                config[\"augmentation\"][\"style_transfer\"][\"enabled\"]])\n",
    "\n",
    "data.to_parquet(f\"{config['output']}/preprocessed_data{'_augmented' if augmented else ''}.parquet\", index=False)"
   ]
  }
 ],
 "metadata": {
  "kernelspec": {
   "display_name": "fake-news-detection",
   "language": "python",
   "name": "python3"
  },
  "language_info": {
   "codemirror_mode": {
    "name": "ipython",
    "version": 3
   },
   "file_extension": ".py",
   "mimetype": "text/x-python",
   "name": "python",
   "nbconvert_exporter": "python",
   "pygments_lexer": "ipython3",
   "version": "3.10.16"
  }
 },
 "nbformat": 4,
 "nbformat_minor": 2
}
