{
 "cells": [
  {
   "cell_type": "code",
   "execution_count": 1,
   "metadata": {},
   "outputs": [
    {
     "name": "stdout",
     "output_type": "stream",
     "text": [
      "read_dataset()\n",
      "read_all_datasets()\n",
      "combine_text_columns()\n",
      "split_data()\n",
      "extract_data()\n",
      "evaluate_model()\n",
      "detect_missing_values()\n"
     ]
    }
   ],
   "source": [
    "%run ../../common_functions.py"
   ]
  },
  {
   "cell_type": "code",
   "execution_count": 2,
   "metadata": {},
   "outputs": [],
   "source": [
    "import pandas as pd"
   ]
  },
  {
   "cell_type": "markdown",
   "metadata": {},
   "source": [
    "## Load in Dataset"
   ]
  },
  {
   "cell_type": "code",
   "execution_count": 3,
   "metadata": {},
   "outputs": [],
   "source": [
    "df = pd.read_csv(\"LIAR2.csv\")"
   ]
  },
  {
   "cell_type": "markdown",
   "metadata": {},
   "source": [
    "## Preprocess"
   ]
  },
  {
   "cell_type": "code",
   "execution_count": 4,
   "metadata": {},
   "outputs": [],
   "source": [
    "df.drop(columns=[\"date\", \n",
    "                 \"subject\", \n",
    "                 \"speaker_description\", \n",
    "                 \"state_info\", \n",
    "                 \"true_counts\", \n",
    "                 \"mostly_true_counts\", \n",
    "                 \"half_true_counts\", \n",
    "                 \"mostly_false_counts\", \n",
    "                 \"false_counts\", \n",
    "                 \"pants_on_fire_counts\", \n",
    "                 \"context\", \n",
    "                 \"justification\"], \n",
    "        axis=1, inplace=True)"
   ]
  },
  {
   "cell_type": "code",
   "execution_count": 5,
   "metadata": {},
   "outputs": [
    {
     "name": "stdout",
     "output_type": "stream",
     "text": [
      "Missing values per column:\n",
      "id           0\n",
      "label        0\n",
      "statement    0\n",
      "speaker      0\n",
      "dtype: int64\n",
      "\n",
      "Total missing values in DataFrame: 0\n",
      "\n",
      "Columns with missing values: []\n"
     ]
    }
   ],
   "source": [
    "detect_missing_values(df)"
   ]
  },
  {
   "cell_type": "markdown",
   "metadata": {},
   "source": [
    "### Label Justification\n",
    "\n",
    "| Original Label | Meaning         | Binary Label |\n",
    "|----------------|------------------|---------------|\n",
    "| 0              | Pants on Fire    | Fake (1)      |\n",
    "| 1              | False            | Fake (1)      |\n",
    "| 2              | Mostly False     | Fake (1)      |\n",
    "| 3              | Half True        | Real (0)      |\n",
    "| 4              | Mostly True      | Real (0)      |\n",
    "| 5              | True             | Real (0)      |\n"
   ]
  },
  {
   "cell_type": "code",
   "execution_count": 6,
   "metadata": {},
   "outputs": [],
   "source": [
    "df[\"label\"] = df['label'].map(lambda x: 0 if x >= 3 else 1)"
   ]
  },
  {
   "cell_type": "markdown",
   "metadata": {},
   "source": [
    "## Split data"
   ]
  },
  {
   "cell_type": "code",
   "execution_count": 7,
   "metadata": {},
   "outputs": [],
   "source": [
    "real_df = df[df[\"label\"] == 0]\n",
    "fake_df = df[df[\"label\"] == 1]"
   ]
  },
  {
   "cell_type": "markdown",
   "metadata": {},
   "source": [
    "## Export Dataset"
   ]
  },
  {
   "cell_type": "code",
   "execution_count": 8,
   "metadata": {},
   "outputs": [],
   "source": [
    "real_df.to_csv(\"../../datasets/LIAR2/real.csv\", sep=\",\", index=False)\n",
    "fake_df.to_csv(\"../../datasets/LIAR2/fake.csv\", sep=\",\", index=False)"
   ]
  }
 ],
 "metadata": {
  "kernelspec": {
   "display_name": "fake-news-detection",
   "language": "python",
   "name": "python3"
  },
  "language_info": {
   "codemirror_mode": {
    "name": "ipython",
    "version": 3
   },
   "file_extension": ".py",
   "mimetype": "text/x-python",
   "name": "python",
   "nbconvert_exporter": "python",
   "pygments_lexer": "ipython3",
   "version": "3.10.16"
  }
 },
 "nbformat": 4,
 "nbformat_minor": 2
}
