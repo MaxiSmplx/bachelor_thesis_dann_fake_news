{
 "cells": [
  {
   "cell_type": "code",
   "execution_count": 1,
   "metadata": {},
   "outputs": [],
   "source": [
    "import pandas as pd"
   ]
  },
  {
   "cell_type": "markdown",
   "metadata": {},
   "source": [
    "## Load in Datasets\n",
    "Datasets: https://huggingface.co/datasets/chengxuphd/liar2"
   ]
  },
  {
   "cell_type": "code",
   "execution_count": 2,
   "metadata": {},
   "outputs": [],
   "source": [
    "splits = {'train': 'train.csv', 'validation': 'valid.csv', 'test': 'test.csv'}\n",
    "df_train = pd.read_csv(\"hf://datasets/chengxuphd/liar2/\" + splits[\"train\"])\n",
    "df_test = pd.read_csv(\"hf://datasets/chengxuphd/liar2/\" + splits[\"test\"])\n",
    "df_validation = pd.read_csv(\"hf://datasets/chengxuphd/liar2/\" + splits[\"validation\"])\n",
    "\n",
    "dfs = [df_train, df_test, df_validation]"
   ]
  },
  {
   "cell_type": "markdown",
   "metadata": {},
   "source": [
    "## Check if columns match"
   ]
  },
  {
   "cell_type": "code",
   "execution_count": 3,
   "metadata": {},
   "outputs": [
    {
     "name": "stdout",
     "output_type": "stream",
     "text": [
      "All datasets have the same columns: True\n"
     ]
    }
   ],
   "source": [
    "all_equal = all(set(df.columns) == set(dfs[0].columns) for df in dfs[1:])\n",
    "print(f\"All datasets have the same columns: {all_equal}\")"
   ]
  },
  {
   "cell_type": "markdown",
   "metadata": {},
   "source": [
    "## Concat Datasets"
   ]
  },
  {
   "cell_type": "code",
   "execution_count": 4,
   "metadata": {},
   "outputs": [],
   "source": [
    "combined_df = pd.concat(dfs, ignore_index=True)"
   ]
  },
  {
   "cell_type": "markdown",
   "metadata": {},
   "source": [
    "## Export combined Dataset"
   ]
  },
  {
   "cell_type": "code",
   "execution_count": 5,
   "metadata": {},
   "outputs": [],
   "source": [
    "combined_df.to_parquet(\"LIAR2.parquet\", index=False)"
   ]
  }
 ],
 "metadata": {
  "kernelspec": {
   "display_name": "fake-news-detection",
   "language": "python",
   "name": "python3"
  },
  "language_info": {
   "codemirror_mode": {
    "name": "ipython",
    "version": 3
   },
   "file_extension": ".py",
   "mimetype": "text/x-python",
   "name": "python",
   "nbconvert_exporter": "python",
   "pygments_lexer": "ipython3",
   "version": "3.10.16"
  }
 },
 "nbformat": 4,
 "nbformat_minor": 2
}
