{
 "cells": [
  {
   "cell_type": "code",
   "execution_count": 1,
   "metadata": {},
   "outputs": [],
   "source": [
    "import pandas as pd\n",
    "import numpy as np"
   ]
  },
  {
   "cell_type": "markdown",
   "metadata": {},
   "source": [
    "## Load in Datasets\n",
    "Dataset: https://huggingface.co/datasets/pszemraj/multi_fc"
   ]
  },
  {
   "cell_type": "code",
   "execution_count": 2,
   "metadata": {},
   "outputs": [],
   "source": [
    "df = pd.read_csv(\"hf://datasets/pszemraj/multi_fc/\" + \"train.csv\")"
   ]
  },
  {
   "cell_type": "code",
   "execution_count": 3,
   "metadata": {},
   "outputs": [],
   "source": [
    "true_variants = [\n",
    "    r'true',                  # true, Truth!, etc.\n",
    "    r'truth',                 # truth!, truth! & fiction!, etc.\n",
    "    r'mostly[- _]?true',      # mostly true, mostly_true\n",
    "    r'verdict: true',         # verdict: true\n",
    "    r'determination: true',   # determination: true\n",
    "    r'factscan score: true',  # factscan score: true\n",
    "    r'correct',               # correct attribution!, correct\n",
    "    r'accurate',              # conclusion: accurate, accurate\n",
    "    r'confirmed authorship',  # confirmed authorship!\n",
    "    r'authorship confirmed',  # authorship confirmed!\n",
    "]\n",
    "\n",
    "false_variants = [\n",
    "    r'false',                     # false, False!, etc.\n",
    "    r'mostly[- _]?false',         # mostly false, mostly_false\n",
    "    r'half[- _]?false',           # half-false, half false (if any)\n",
    "    r'verdict: false',            # verdict: false\n",
    "    r'determination: false',      # determination: false\n",
    "    r'factscan score: false',     # factscan score: false\n",
    "    r'pants on fire',             # pants on fire!, etc.\n",
    "    r'pinnochios?',               # 2 pinnochios, 3 pinnochios, 4 pinnochios\n",
    "    r'misleading',                # misleading, misleading!\n",
    "    r'fiction',                   # fiction!, fiction & satire!\n",
    "    r'fake',                      # fake, fake news\n",
    "    r'bogus',                     # bogus warning\n",
    "    r'scam',                      # scam, scam!\n",
    "    r'incorrect',                 # incorrect\n",
    "    r'unverified',                # unverified\n",
    "    r'unsupported',               # unsupported\n",
    "    r'disputed',                  # disputed!\n",
    "    r'inaccurate',                # inaccurate attribution!\n",
    "]"
   ]
  },
  {
   "cell_type": "code",
   "execution_count": 4,
   "metadata": {},
   "outputs": [],
   "source": [
    "pattern_true  = r'(?:' + r'|'.join(true_variants)  + r')'\n",
    "pattern_false = r'(?:' + r'|'.join(false_variants) + r')'\n",
    "pattern_all   = pattern_true + r'|' + pattern_false\n",
    "\n",
    "mask = df['label'].str.contains(pattern_all, case=False, na=False)\n",
    "df_filtered = df.loc[mask].copy()\n",
    "\n",
    "df_filtered['label'] = np.where(\n",
    "    df_filtered['label'].str.contains(pattern_true, case=False, na=False), 0, 1\n",
    ")"
   ]
  },
  {
   "cell_type": "markdown",
   "metadata": {},
   "source": [
    "## Export  Dataset"
   ]
  },
  {
   "cell_type": "code",
   "execution_count": 5,
   "metadata": {},
   "outputs": [],
   "source": [
    "df_filtered.to_parquet(\"MultiFC.parquet\", index=False)"
   ]
  }
 ],
 "metadata": {
  "kernelspec": {
   "display_name": "fake-news-detection",
   "language": "python",
   "name": "python3"
  },
  "language_info": {
   "codemirror_mode": {
    "name": "ipython",
    "version": 3
   },
   "file_extension": ".py",
   "mimetype": "text/x-python",
   "name": "python",
   "nbconvert_exporter": "python",
   "pygments_lexer": "ipython3",
   "version": "3.10.18"
  }
 },
 "nbformat": 4,
 "nbformat_minor": 2
}
