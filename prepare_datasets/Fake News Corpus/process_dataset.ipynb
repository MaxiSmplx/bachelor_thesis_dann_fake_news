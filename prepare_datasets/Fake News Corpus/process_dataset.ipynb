{
 "cells": [
  {
   "cell_type": "code",
   "execution_count": 1,
   "metadata": {},
   "outputs": [],
   "source": [
    "import pandas as pd"
   ]
  },
  {
   "cell_type": "markdown",
   "metadata": {},
   "source": [
    "## Load in Dataset"
   ]
  },
  {
   "cell_type": "code",
   "execution_count": 4,
   "metadata": {},
   "outputs": [],
   "source": [
    "df = pd.read_csv(\"FakeNewsCorpus.csv\")"
   ]
  },
  {
   "cell_type": "code",
   "execution_count": 6,
   "metadata": {},
   "outputs": [
    {
     "data": {
      "text/plain": [
       "Index(['Unnamed: 0', 'id', 'domain', 'type', 'url', 'content', 'scraped_at',\n",
       "       'inserted_at', 'updated_at', 'title', 'authors', 'keywords',\n",
       "       'meta_keywords', 'meta_description', 'tags', 'summary', 'source'],\n",
       "      dtype='object')"
      ]
     },
     "execution_count": 6,
     "metadata": {},
     "output_type": "execute_result"
    }
   ],
   "source": [
    "df.columns"
   ]
  },
  {
   "cell_type": "markdown",
   "metadata": {},
   "source": [
    "## Preprocess"
   ]
  },
  {
   "cell_type": "code",
   "execution_count": 7,
   "metadata": {},
   "outputs": [],
   "source": [
    "df.drop(columns=[\"Unnamed: 0\",\n",
    "                 \"id\",\n",
    "                 \"domain\",\n",
    "                 \"url\",\n",
    "                 \"scraped_at\",\n",
    "                 \"inserted_at\",\n",
    "                 \"updated_at\",\n",
    "                 \"authors\",\n",
    "                 \"keywords\",\n",
    "                 \"meta_keywords\",\n",
    "                 \"meta_description\",\n",
    "                 \"tags\",\n",
    "                 \"summary\",\n",
    "                 \"source\"], axis=1, inplace=True)"
   ]
  },
  {
   "cell_type": "code",
   "execution_count": 8,
   "metadata": {},
   "outputs": [
    {
     "data": {
      "text/html": [
       "<div>\n",
       "<style scoped>\n",
       "    .dataframe tbody tr th:only-of-type {\n",
       "        vertical-align: middle;\n",
       "    }\n",
       "\n",
       "    .dataframe tbody tr th {\n",
       "        vertical-align: top;\n",
       "    }\n",
       "\n",
       "    .dataframe thead th {\n",
       "        text-align: right;\n",
       "    }\n",
       "</style>\n",
       "<table border=\"1\" class=\"dataframe\">\n",
       "  <thead>\n",
       "    <tr style=\"text-align: right;\">\n",
       "      <th></th>\n",
       "      <th>type</th>\n",
       "      <th>content</th>\n",
       "      <th>title</th>\n",
       "    </tr>\n",
       "  </thead>\n",
       "  <tbody>\n",
       "    <tr>\n",
       "      <th>0</th>\n",
       "      <td>reliable</td>\n",
       "      <td>Facebook/DestinyTheGame Promo image for \"Desti...</td>\n",
       "      <td>'Destiny 2' News: Bungie Addresses Player Comp...</td>\n",
       "    </tr>\n",
       "    <tr>\n",
       "      <th>1</th>\n",
       "      <td>reliable</td>\n",
       "      <td>(Screenshot: Facebook) Dr. Melina Abdullah, pr...</td>\n",
       "      <td>Professor Conducts Libation to Summon Spirits ...</td>\n",
       "    </tr>\n",
       "    <tr>\n",
       "      <th>2</th>\n",
       "      <td>reliable</td>\n",
       "      <td>(Photo: Reuters) The teams of North and South ...</td>\n",
       "      <td>'Ghost Ship' With 8 Dead N. Koreans Washes Up ...</td>\n",
       "    </tr>\n",
       "    <tr>\n",
       "      <th>3</th>\n",
       "      <td>reliable</td>\n",
       "      <td>(Photo: Reuters/Dado Ruvic) Facebook.\\n\\nUPDAT...</td>\n",
       "      <td>Facebook Lifts Ban on Paid Ads for Pro-Life Fi...</td>\n",
       "    </tr>\n",
       "    <tr>\n",
       "      <th>4</th>\n",
       "      <td>reliable</td>\n",
       "      <td>(Screencap: YouTube/Tidningen Dagen) Annahita ...</td>\n",
       "      <td>Iranian Christian Convert Leads 1,500 Muslims ...</td>\n",
       "    </tr>\n",
       "  </tbody>\n",
       "</table>\n",
       "</div>"
      ],
      "text/plain": [
       "       type                                            content  \\\n",
       "0  reliable  Facebook/DestinyTheGame Promo image for \"Desti...   \n",
       "1  reliable  (Screenshot: Facebook) Dr. Melina Abdullah, pr...   \n",
       "2  reliable  (Photo: Reuters) The teams of North and South ...   \n",
       "3  reliable  (Photo: Reuters/Dado Ruvic) Facebook.\\n\\nUPDAT...   \n",
       "4  reliable  (Screencap: YouTube/Tidningen Dagen) Annahita ...   \n",
       "\n",
       "                                               title  \n",
       "0  'Destiny 2' News: Bungie Addresses Player Comp...  \n",
       "1  Professor Conducts Libation to Summon Spirits ...  \n",
       "2  'Ghost Ship' With 8 Dead N. Koreans Washes Up ...  \n",
       "3  Facebook Lifts Ban on Paid Ads for Pro-Life Fi...  \n",
       "4  Iranian Christian Convert Leads 1,500 Muslims ...  "
      ]
     },
     "execution_count": 8,
     "metadata": {},
     "output_type": "execute_result"
    }
   ],
   "source": [
    "df.head()"
   ]
  },
  {
   "cell_type": "code",
   "execution_count": 12,
   "metadata": {},
   "outputs": [],
   "source": [
    "df[\"label\"] = df[\"type\"].apply(lambda x: 0 if x == \"reliable\" else 1)\n",
    "df.drop(columns=[\"type\"], axis=1, inplace=True)"
   ]
  },
  {
   "cell_type": "markdown",
   "metadata": {},
   "source": [
    "## Split data"
   ]
  },
  {
   "cell_type": "code",
   "execution_count": 11,
   "metadata": {},
   "outputs": [],
   "source": [
    "real_df = df[df[\"label\"] == 0]\n",
    "fake_df = df[df[\"label\"] == 1]"
   ]
  },
  {
   "cell_type": "markdown",
   "metadata": {},
   "source": [
    "## Export Dataset"
   ]
  },
  {
   "cell_type": "code",
   "execution_count": 15,
   "metadata": {},
   "outputs": [],
   "source": [
    "real_df.to_csv(\"real.csv\", sep=\",\", index=False)\n",
    "fake_df.to_csv(\"fake.csv\", sep=\",\", index=False)"
   ]
  }
 ],
 "metadata": {
  "kernelspec": {
   "display_name": "fake-news-detection",
   "language": "python",
   "name": "python3"
  },
  "language_info": {
   "codemirror_mode": {
    "name": "ipython",
    "version": 3
   },
   "file_extension": ".py",
   "mimetype": "text/x-python",
   "name": "python",
   "nbconvert_exporter": "python",
   "pygments_lexer": "ipython3",
   "version": "3.10.16"
  }
 },
 "nbformat": 4,
 "nbformat_minor": 2
}
