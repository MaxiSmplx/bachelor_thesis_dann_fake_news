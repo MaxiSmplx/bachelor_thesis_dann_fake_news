{
 "cells": [
  {
   "cell_type": "code",
   "execution_count": 2,
   "metadata": {},
   "outputs": [
    {
     "name": "stdout",
     "output_type": "stream",
     "text": [
      "read_dataset()\n",
      "read_all_datasets()\n",
      "read_processed_data()\n",
      "combine_text_columns()\n",
      "split_train_test()\n",
      "extract_data()\n",
      "evaluate_model()\n",
      "detect_missing_values()\n"
     ]
    }
   ],
   "source": [
    "%run ../common_functions.py"
   ]
  },
  {
   "cell_type": "code",
   "execution_count": 1,
   "metadata": {},
   "outputs": [
    {
     "name": "stdout",
     "output_type": "stream",
     "text": [
      "4.52.4\n"
     ]
    }
   ],
   "source": [
    "import transformers\n",
    "print(transformers.__version__)"
   ]
  },
  {
   "cell_type": "code",
   "execution_count": 3,
   "metadata": {},
   "outputs": [],
   "source": [
    "from openai import OpenAI\n",
    "from dotenv import load_dotenv\n",
    "from tqdm import tqdm\n",
    "import os\n",
    "import pandas as pd"
   ]
  },
  {
   "cell_type": "code",
   "execution_count": 10,
   "metadata": {},
   "outputs": [],
   "source": [
    "train_data, test_data = read_processed_data(augmented=False, balanced=False)\n",
    "data = pd.concat([train_data, test_data], ignore_index=True)"
   ]
  },
  {
   "cell_type": "code",
   "execution_count": 11,
   "metadata": {},
   "outputs": [],
   "source": [
    "NO_SAMPLES = 10\n",
    "\n",
    "data = data.sample(n=NO_SAMPLES)"
   ]
  },
  {
   "cell_type": "code",
   "execution_count": 1,
   "metadata": {},
   "outputs": [
    {
     "data": {
      "text/plain": [
       "'\\nModels (intelligence, speed)\\no3 (5,1 - 1000 requests: $0.754 - 1$ = 1,326 requests): o3-2025-04-16 GPT-4.1 (4,3  - 1000 requests: $0.754 - 1$ = 1,326 requests): gpt-4.1-2025-04-14 GPT-4o mini (2,4 - 1000 requests: $0.4147 - 1$ = 2,411 requests): gpt-4o-mini-2024-07-18 GPT-4.1 nano (2,5 - 1000 requests: $0.0377 - 1$ = 26,525 requests): gpt-4.1-nano-2025-04-14 '"
      ]
     },
     "execution_count": 1,
     "metadata": {},
     "output_type": "execute_result"
    }
   ],
   "source": [
    "\"\"\"\n",
    "Models (intelligence,speed - cost per 1000 requests - requests per 1$)\n",
    "o3 (5,1 - $0.754 - 1,326): o3-2025-04-16 \\\n",
    "GPT-4.1 (4,3  - $0.754 - 1,326): gpt-4.1-2025-04-14 \\\n",
    "GPT-4o mini (2,4 - $0.4147 - 2,411): gpt-4o-mini-2024-07-18 \\\n",
    "GPT-4.1 nano (2,5 - $0.0377 - 26,525): gpt-4.1-nano-2025-04-14 \\\n",
    "\"\"\""
   ]
  },
  {
   "cell_type": "code",
   "execution_count": 12,
   "metadata": {},
   "outputs": [
    {
     "name": "stderr",
     "output_type": "stream",
     "text": [
      "Processing prompts: 100%|██████████| 10/10 [00:10<00:00,  1.03s/it]\n"
     ]
    }
   ],
   "source": [
    "prompts = [\n",
    "    {\n",
    "        \"text\": row[\"text\"],\n",
    "        \"label_orig\": \"real\" if row[\"label\"] == 0 else \"fake\"\n",
    "    }\n",
    "    for _, row in data.iterrows()\n",
    "]\n",
    "\n",
    "client = OpenAI(api_key=os.getenv(\"OPENAI_SECRET_KEY\"))\n",
    "\n",
    "load_dotenv()\n",
    "\n",
    "client = OpenAI(api_key=os.getenv(\"OPENAI_SECRET_KEY\"))\n",
    "responses = []\n",
    "\n",
    "for prompt in tqdm(prompts, desc=\"Processing prompts\"):\n",
    "    response = client.responses.create(\n",
    "        model=\"gpt-4.1-nano-2025-04-14\",\n",
    "        input = [\n",
    "            {\n",
    "                \"role\": \"system\",\n",
    "                \"content\": \"You are a fake news detector. Respond with only 'real' or 'fake'.\"\n",
    "            },\n",
    "            {\n",
    "                \"role\": \"user\",\n",
    "                \"content\": prompt[\"text\"]\n",
    "            },\n",
    "        ],\n",
    "        temperature = 0.3,\n",
    "    )\n",
    "\n",
    "    label_pred = response.output_text.lower()\n",
    "    responses.append(\n",
    "        {\n",
    "            \"prompt\": prompt[\"text\"], \n",
    "            \"label_original\": prompt[\"label_orig\"], \n",
    "            \"label_predicted\": label_pred\n",
    "        }\n",
    "    )"
   ]
  },
  {
   "cell_type": "code",
   "execution_count": 22,
   "metadata": {},
   "outputs": [
    {
     "name": "stdout",
     "output_type": "stream",
     "text": [
      "ERROR: Only labeled 9 / 10 samples correctly\n"
     ]
    }
   ],
   "source": [
    "y_true = [response[\"label_original\"] for response in responses]\n",
    "y_pred = [response[\"label_predicted\"] for response in responses]\n",
    "\n",
    "\n",
    "# Sanity check: Ensure the LLM output contains exactly one label per sample, and only valid labels ('real' or 'fake').\n",
    "if all(item in {\"real\", \"fake\"} for item in y_pred) and len(y_pred) == NO_SAMPLES:\n",
    "    print(\"Successfully labeled all samples provided\")\n",
    "else:\n",
    "    print(f\"ERROR: Only labeled {NO_SAMPLES - sum(item not in {'real', 'fake'} for item in y_pred)} / {NO_SAMPLES} samples correctly\")"
   ]
  },
  {
   "cell_type": "code",
   "execution_count": 16,
   "metadata": {},
   "outputs": [
    {
     "name": "stdout",
     "output_type": "stream",
     "text": [
      "Classification Report:\n",
      "              precision    recall  f1-score   support\n",
      "\n",
      "        fake       0.75      0.86      0.80         7\n",
      "        real       0.50      0.33      0.40         3\n",
      "\n",
      "    accuracy                           0.70        10\n",
      "   macro avg       0.62      0.60      0.60        10\n",
      "weighted avg       0.68      0.70      0.68        10\n",
      "\n",
      "\n",
      "Overall Metrics:\n",
      "Accuracy       : 0.7000\n",
      "Precision (avg): 0.6750\n",
      "Recall    (avg): 0.7000\n",
      "F1 Score  (avg): 0.6800\n",
      "\n"
     ]
    },
    {
     "data": {
      "image/png": "[encoded data removed]",
      "text/plain": [
       "<Figure size 640x480 with 2 Axes>"
      ]
     },
     "metadata": {},
     "output_type": "display_data"
    }
   ],
   "source": [
    "evaluate_model(y_true, y_pred)"
   ]
  }
 ],
 "metadata": {
  "kernelspec": {
   "display_name": "fake-news-detection",
   "language": "python",
   "name": "python3"
  },
  "language_info": {
   "codemirror_mode": {
    "name": "ipython",
    "version": 3
   },
   "file_extension": ".py",
   "mimetype": "text/x-python",
   "name": "python",
   "nbconvert_exporter": "python",
   "pygments_lexer": "ipython3",
   "version": "3.10.18"
  }
 },
 "nbformat": 4,
 "nbformat_minor": 2
}
